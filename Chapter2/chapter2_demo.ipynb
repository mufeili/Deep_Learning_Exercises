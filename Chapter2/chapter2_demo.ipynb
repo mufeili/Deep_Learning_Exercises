{
 "cells": [
  {
   "cell_type": "code",
   "execution_count": 1,
   "metadata": {
    "collapsed": true
   },
   "outputs": [],
   "source": [
    "# Chapter 2 Linear Algebra"
   ]
  },
  {
   "cell_type": "code",
   "execution_count": 2,
   "metadata": {
    "collapsed": true
   },
   "outputs": [],
   "source": [
    "import numpy as np"
   ]
  },
  {
   "cell_type": "code",
   "execution_count": 3,
   "metadata": {
    "collapsed": false
   },
   "outputs": [
    {
     "name": "stdout",
     "output_type": "stream",
     "text": [
      "Before the transpose operation: \n",
      " [[ 0.55948793  0.86229399]\n",
      " [ 0.82821372  0.69653233]]\n",
      "After the transpose operation: \n",
      " [[ 0.55948793  0.82821372]\n",
      " [ 0.86229399  0.69653233]]\n"
     ]
    }
   ],
   "source": [
    "# 2.1 Scalars, Vectors, Matrices and Tensors\n",
    "from transpose import transpose\n",
    "\n",
    "X = np.random.rand(2, 2)\n",
    "print(\"Before the transpose operation: \\n\", X)\n",
    "X_transposed = X.T\n",
    "print(\"After the transpose operation: \\n\", X_transposed)"
   ]
  },
  {
   "cell_type": "code",
   "execution_count": 4,
   "metadata": {
    "collapsed": false
   },
   "outputs": [
    {
     "name": "stdout",
     "output_type": "stream",
     "text": [
      "The matrix product of A and B is \n",
      " [[12 56]\n",
      " [11 43]]\n",
      "The element-wise product of A and B is \n",
      " [[ 2 60]\n",
      " [ 3 25]]\n",
      "The dot product of vectors C and D is \n",
      " 44\n"
     ]
    }
   ],
   "source": [
    "# 2.2 Multiplying Matrices and Vectors\n",
    "from multiplication import matrix_product, elementwise_product, dot_product\n",
    "\n",
    "A = np.array([[1, 10], [3, 5]])\n",
    "B = np.array([[2, 6], [1, 5]])\n",
    "\n",
    "AB_matrix_product = matrix_product(A, B)\n",
    "print(\"The matrix product of A and B is \\n\", AB_matrix_product)\n",
    "\n",
    "AB_elementwise_product = elementwise_product(A, B)\n",
    "print(\"The element-wise product of A and B is \\n\", AB_elementwise_product)\n",
    "\n",
    "C = np.array([1, 3, 5])\n",
    "D = np.array([2, 4, 6])\n",
    "CD_dot_product = dot_product(C, D)\n",
    "print(\"The dot product of vectors C and D is \\n\", CD_dot_product)"
   ]
  },
  {
   "cell_type": "code",
   "execution_count": 5,
   "metadata": {
    "collapsed": false
   },
   "outputs": [
    {
     "name": "stdout",
     "output_type": "stream",
     "text": [
      "Result of A(B + C): \n",
      "\n",
      "[[ 1.06556983  1.61280966  1.95276262]\n",
      " [ 0.42467076  0.81714814  0.80650483]\n",
      " [ 0.89072606  1.45310658  1.64934564]] \n",
      "\n",
      "Result of AB + AC: \n",
      "\n",
      "[[ 1.06556983  1.61280966  1.95276262]\n",
      " [ 0.42467076  0.81714814  0.80650483]\n",
      " [ 0.89072606  1.45310658  1.64934564]] \n",
      "\n"
     ]
    }
   ],
   "source": [
    "# Matrix multiplication is distributive(not strictly in nunmpy due to numerical limitation).\n",
    "A = np.random.rand(3, 2)\n",
    "B = np.random.rand(2, 3)\n",
    "C = np.random.rand(2, 3)\n",
    "\n",
    "D = matrix_product(A, B + C)\n",
    "E = matrix_product(A, B) + matrix_product(A, C)\n",
    "\n",
    "print(\"Result of A(B + C): \\n\")\n",
    "print(D, \"\\n\")\n",
    "print(\"Result of AB + AC: \\n\")\n",
    "print(E, \"\\n\")"
   ]
  },
  {
   "cell_type": "code",
   "execution_count": 6,
   "metadata": {
    "collapsed": false
   },
   "outputs": [
    {
     "name": "stdout",
     "output_type": "stream",
     "text": [
      "Result of A(BC): \n",
      "\n",
      "[[ 0.85313277  0.57891087]\n",
      " [ 1.29057678  0.91708279]] \n",
      "\n",
      "Result of (AB)C: \n",
      "\n",
      "[[ 0.85313277  0.57891087]\n",
      " [ 1.29057678  0.91708279]] \n",
      "\n"
     ]
    }
   ],
   "source": [
    "# Matrix multiplication is associative(not strictly in nunmpy due to numerical limitation).\n",
    "A = np.random.rand(2, 2)\n",
    "B = np.random.rand(2, 2)\n",
    "C = np.random.rand(2, 2)\n",
    "\n",
    "D = matrix_product(A, matrix_product(B, C))\n",
    "E = matrix_product(matrix_product(A, B), C)\n",
    "\n",
    "print(\"Result of A(BC): \\n\")\n",
    "print(D, \"\\n\")\n",
    "print(\"Result of (AB)C: \\n\")\n",
    "print(E, \"\\n\")"
   ]
  },
  {
   "cell_type": "code",
   "execution_count": 7,
   "metadata": {
    "collapsed": false
   },
   "outputs": [
    {
     "name": "stdout",
     "output_type": "stream",
     "text": [
      "Result of AB: \n",
      "\n",
      "[[ 0.54682129  0.53869028]\n",
      " [ 0.8679756   0.81307801]] \n",
      "\n",
      "Result of BA: \n",
      "\n",
      "[[ 0.29972849  0.50995018]\n",
      " [ 0.6681536   1.06017082]] \n",
      "\n"
     ]
    }
   ],
   "source": [
    "# Matrix multiplication is not commutative.\n",
    "A = np.random.rand(2, 2)\n",
    "B = np.random.rand(2, 2)\n",
    "\n",
    "C = matrix_product(A, B)\n",
    "D = matrix_product(B, A)\n",
    "\n",
    "print(\"Result of AB: \\n\")\n",
    "print(C, \"\\n\")\n",
    "print(\"Result of BA: \\n\")\n",
    "print(D, \"\\n\")"
   ]
  },
  {
   "cell_type": "code",
   "execution_count": 8,
   "metadata": {
    "collapsed": false
   },
   "outputs": [
    {
     "name": "stdout",
     "output_type": "stream",
     "text": [
      "0.984150166546 \n",
      "\n",
      "0.984150166546 \n",
      "\n",
      "True\n"
     ]
    }
   ],
   "source": [
    "# The dot product between two vectors is commutative.\n",
    "A = np.random.rand(5)\n",
    "B = np.random.rand(5)\n",
    "\n",
    "C = dot_product(A, B)\n",
    "D = dot_product(B, A)\n",
    "\n",
    "print(C, \"\\n\")\n",
    "print(D, \"\\n\")\n",
    "print(C == D)"
   ]
  },
  {
   "cell_type": "code",
   "execution_count": 9,
   "metadata": {
    "collapsed": false
   },
   "outputs": [
    {
     "name": "stdout",
     "output_type": "stream",
     "text": [
      "[[ 0.59721027  0.27793216  0.15032596]\n",
      " [ 1.60974214  0.80187513  0.52976534]\n",
      " [ 0.62377139  0.3417101   0.27848828]] \n",
      "\n",
      "[[ 0.59721027  0.27793216  0.15032596]\n",
      " [ 1.60974214  0.80187513  0.52976534]\n",
      " [ 0.62377139  0.3417101   0.27848828]] \n",
      "\n"
     ]
    }
   ],
   "source": [
    "# Let A be a numpy array of shape(m, n) and B be a numpy array of shape(n, m), then the transpose of the matrix product\n",
    "# of A and B, i.e. AB, is the product of the transpose of B and the transpose of A (not strictly in nunmpy due to \n",
    "# numerical limitation).\n",
    "A = np.random.rand(3, 2)\n",
    "B = np.random.rand(2, 3)\n",
    "\n",
    "C = matrix_product(A, B)\n",
    "\n",
    "D = transpose(matrix_product(A, B))\n",
    "E = matrix_product(transpose(B), transpose(A))\n",
    "\n",
    "print(D, \"\\n\")\n",
    "print(E, \"\\n\")"
   ]
  },
  {
   "cell_type": "code",
   "execution_count": 10,
   "metadata": {
    "collapsed": false
   },
   "outputs": [
    {
     "name": "stdout",
     "output_type": "stream",
     "text": [
      "[-2.65439845  3.50912247] \n",
      "\n",
      "[ 0.0923969   0.25654266] \n",
      "\n",
      "[ 0.0923969   0.25654266] \n",
      "\n"
     ]
    }
   ],
   "source": [
    "# Matrix-vector product notation provides a more compact representation for a system of linear equations. This may be\n",
    "# realized in numpy with np.linalg.solve().\n",
    "A = np.random.rand(2, 2)\n",
    "B = np.random.rand(2)\n",
    "\n",
    "x = np.linalg.solve(A, B)\n",
    "print(x, \"\\n\")\n",
    "print(matrix_product(A, x),\"\\n\")\n",
    "print(B, \"\\n\")"
   ]
  },
  {
   "cell_type": "code",
   "execution_count": 11,
   "metadata": {
    "collapsed": false
   },
   "outputs": [
    {
     "name": "stdout",
     "output_type": "stream",
     "text": [
      "[[ 1.  0.  0.]\n",
      " [ 0.  1.  0.]\n",
      " [ 0.  0.  1.]] \n",
      "\n"
     ]
    }
   ],
   "source": [
    "# 2.3 Identity and Inverse matrices\n",
    "\n",
    "from identity import identity\n",
    "\n",
    "A = identity(3)\n",
    "print(A, \"\\n\")"
   ]
  },
  {
   "cell_type": "code",
   "execution_count": 12,
   "metadata": {
    "collapsed": false
   },
   "outputs": [
    {
     "name": "stdout",
     "output_type": "stream",
     "text": [
      "[[  1.00000000e+00  -5.79725675e-17]\n",
      " [  5.50096610e-17   1.00000000e+00]] \n",
      "\n",
      "[[  1.00000000e+00   9.95587511e-18]\n",
      " [  1.46077254e-16   1.00000000e+00]] \n",
      "\n"
     ]
    }
   ],
   "source": [
    "from inverse import inverse\n",
    "\n",
    "A = np.random.rand(2, 2)\n",
    "B = inverse(A)\n",
    "\n",
    "print(matrix_product(A, B), \"\\n\")\n",
    "print(matrix_product(B, A), \"\\n\")"
   ]
  },
  {
   "cell_type": "code",
   "execution_count": 13,
   "metadata": {
    "collapsed": false
   },
   "outputs": [
    {
     "name": "stdout",
     "output_type": "stream",
     "text": [
      "The L1 norm of A is:  10.0 \n",
      "\n",
      "The L2/Euclidean norm of A is:  5.47722557505 \n",
      "\n"
     ]
    }
   ],
   "source": [
    "# 2.5 Norms\n",
    "\n",
    "from norm import lp_norm, max_norm, frobenius_norm, angle\n",
    "\n",
    "A = np.array([1, -2, 3, -4])\n",
    "\n",
    "print(\"The L1 norm of A is: \", lp_norm(A, 1), \"\\n\")\n",
    "print(\"The L2/Euclidean norm of A is: \", lp_norm(A, 2), \"\\n\")"
   ]
  },
  {
   "cell_type": "code",
   "execution_count": 14,
   "metadata": {
    "collapsed": false
   },
   "outputs": [
    {
     "name": "stdout",
     "output_type": "stream",
     "text": [
      "The max norm of A is:  4 \n",
      "\n"
     ]
    }
   ],
   "source": [
    "print(\"The max norm of A is: \", max_norm(A), \"\\n\")"
   ]
  },
  {
   "cell_type": "code",
   "execution_count": 15,
   "metadata": {
    "collapsed": false
   },
   "outputs": [
    {
     "name": "stdout",
     "output_type": "stream",
     "text": [
      "The Frobenius norm of A is:  2.2360679775 \n",
      "\n",
      "The Frobenius norm of B is:  5.47722557505 \n",
      "\n"
     ]
    }
   ],
   "source": [
    "A = np.array([1, 2])\n",
    "B = np.array([[1, 2],[3, 4]])\n",
    "\n",
    "print(\"The Frobenius norm of A is: \", frobenius_norm(A), \"\\n\")\n",
    "print(\"The Frobenius norm of B is: \", frobenius_norm(B), \"\\n\")"
   ]
  },
  {
   "cell_type": "code",
   "execution_count": 16,
   "metadata": {
    "collapsed": false
   },
   "outputs": [
    {
     "name": "stdout",
     "output_type": "stream",
     "text": [
      "The angle between A and B is:  0.179853499792 \n",
      "\n"
     ]
    }
   ],
   "source": [
    "A = np.array([1, 2])\n",
    "B = np.array([3, 4])\n",
    "\n",
    "print(\"The angle between A and B is: \", angle(A, B), \"\\n\")"
   ]
  },
  {
   "cell_type": "code",
   "execution_count": 17,
   "metadata": {
    "collapsed": false
   },
   "outputs": [
    {
     "name": "stdout",
     "output_type": "stream",
     "text": [
      "This is not a matrix!\n",
      "Is A a symmetric matrix? False \n",
      "\n",
      "This is a vector, not a matrix!\n",
      "Is B a symmetric matrix? False \n",
      "\n",
      "Is C a symmetric matrix? True \n",
      "\n"
     ]
    }
   ],
   "source": [
    "# 2.6 Special Kinds of Matrices and Vectors\n",
    "\n",
    "from special_matrices import is_symmetric, is_unit_vector, orthogonal_to_each_other, are_orthonormal, is_orthogonal\n",
    "\n",
    "A = np.array([[[1,2],[5,6]],[[3,4],[7,8]]])\n",
    "\n",
    "print(\"Is A a symmetric matrix?\", is_symmetric(A), \"\\n\")\n",
    "\n",
    "B = np.array([1, 2])\n",
    "\n",
    "print(\"Is B a symmetric matrix?\", is_symmetric(B), \"\\n\")\n",
    "\n",
    "C = np.array([[1, 7, 3], [7, 4, -5], [3, -5, 6]])\n",
    "\n",
    "print(\"Is C a symmetric matrix?\", is_symmetric(C), \"\\n\")"
   ]
  },
  {
   "cell_type": "code",
   "execution_count": 18,
   "metadata": {
    "collapsed": false
   },
   "outputs": [
    {
     "name": "stdout",
     "output_type": "stream",
     "text": [
      "This is not a vector!\n",
      "Is A a unit vector? False \n",
      "\n",
      "Is B a unit vector? False \n",
      "\n",
      "Is C a unit vector? True \n",
      "\n"
     ]
    }
   ],
   "source": [
    "A = np.array([[1, 0], [0, 0]])\n",
    "\n",
    "print(\"Is A a unit vector?\", is_unit_vector(A), \"\\n\")\n",
    "\n",
    "B = np.array([1, 1])\n",
    "\n",
    "print(\"Is B a unit vector?\", is_unit_vector(B), \"\\n\")\n",
    "\n",
    "C = np.array([1/2, 1/2, 1/2, 1/2])\n",
    "\n",
    "print(\"Is C a unit vector?\", is_unit_vector(C), \"\\n\")"
   ]
  },
  {
   "cell_type": "code",
   "execution_count": 19,
   "metadata": {
    "collapsed": false
   },
   "outputs": [
    {
     "name": "stdout",
     "output_type": "stream",
     "text": [
      "At least one of the numpy array is not a vector!\n",
      "Are A and D orthogonal to each other? False \n",
      "\n",
      "Are A and C orthogonal to each other? False \n",
      "\n",
      "Are A and B orthogonal to each other? True \n",
      "\n"
     ]
    }
   ],
   "source": [
    "A = np.array([1, 0])\n",
    "B = np.array([0, 1])\n",
    "C = np.array([1, 1])\n",
    "D = np.array([[1, 2], [3, 4]])\n",
    "\n",
    "print(\"Are A and D orthogonal to each other?\", orthogonal_to_each_other(A, D), \"\\n\")\n",
    "\n",
    "print(\"Are A and C orthogonal to each other?\", orthogonal_to_each_other(A, C), \"\\n\")\n",
    "\n",
    "print(\"Are A and B orthogonal to each other?\", orthogonal_to_each_other(A, B), \"\\n\")"
   ]
  },
  {
   "cell_type": "code",
   "execution_count": 20,
   "metadata": {
    "collapsed": false
   },
   "outputs": [
    {
     "name": "stdout",
     "output_type": "stream",
     "text": [
      "Are A and C orthonormal? False \n",
      "\n",
      "Are A and B orthonormal? True \n",
      "\n"
     ]
    }
   ],
   "source": [
    "print(\"Are A and C orthonormal?\", are_orthonormal(A, C), \"\\n\")\n",
    "\n",
    "print(\"Are A and B orthonormal?\", are_orthonormal(A, B), \"\\n\")"
   ]
  },
  {
   "cell_type": "code",
   "execution_count": 21,
   "metadata": {
    "collapsed": false
   },
   "outputs": [
    {
     "name": "stdout",
     "output_type": "stream",
     "text": [
      "This is not a matrix!\n",
      "Is A an orthogonal matrix? False \n",
      "\n",
      "This is not a square matrix!\n",
      "Is B an orthogonal matrix? False \n",
      "\n",
      "Is C an orthogonal matrix? True \n",
      "\n"
     ]
    }
   ],
   "source": [
    "A = np.array([1])\n",
    "B = np.array([[1], [2]])\n",
    "C = np.array([[1, 0], [0, -1]])\n",
    "\n",
    "print(\"Is A an orthogonal matrix?\", is_orthogonal(A), \"\\n\")\n",
    "\n",
    "print(\"Is B an orthogonal matrix?\", is_orthogonal(B), \"\\n\")\n",
    "\n",
    "print(\"Is C an orthogonal matrix?\", is_orthogonal(C), \"\\n\")"
   ]
  }
 ],
 "metadata": {
  "kernelspec": {
   "display_name": "Python 3",
   "language": "python",
   "name": "python3"
  },
  "language_info": {
   "codemirror_mode": {
    "name": "ipython",
    "version": 3
   },
   "file_extension": ".py",
   "mimetype": "text/x-python",
   "name": "python",
   "nbconvert_exporter": "python",
   "pygments_lexer": "ipython3",
   "version": "3.5.2"
  }
 },
 "nbformat": 4,
 "nbformat_minor": 2
}
