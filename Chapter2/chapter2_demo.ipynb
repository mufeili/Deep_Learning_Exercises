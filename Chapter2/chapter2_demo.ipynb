{
 "cells": [
  {
   "cell_type": "code",
   "execution_count": 1,
   "metadata": {
    "collapsed": true
   },
   "outputs": [],
   "source": [
    "# Chapter 2 Linear Algebra"
   ]
  },
  {
   "cell_type": "code",
   "execution_count": 2,
   "metadata": {
    "collapsed": true
   },
   "outputs": [],
   "source": [
    "import numpy as np"
   ]
  },
  {
   "cell_type": "code",
   "execution_count": 3,
   "metadata": {
    "collapsed": false
   },
   "outputs": [
    {
     "name": "stdout",
     "output_type": "stream",
     "text": [
      "Before the transpose operation: \n",
      " [[ 0.41620655  0.10589406]\n",
      " [ 0.8183259   0.84075153]]\n",
      "After the transpose operation: \n",
      " [[ 0.41620655  0.8183259 ]\n",
      " [ 0.10589406  0.84075153]]\n"
     ]
    }
   ],
   "source": [
    "# 2.1 Scalars, Vectors, Matrices and Tensors\n",
    "from transpose import transpose\n",
    "\n",
    "X = np.random.rand(2, 2)\n",
    "print(\"Before the transpose operation: \\n\", X)\n",
    "X_transposed = X.T\n",
    "print(\"After the transpose operation: \\n\", X_transposed)"
   ]
  },
  {
   "cell_type": "code",
   "execution_count": 4,
   "metadata": {
    "collapsed": false
   },
   "outputs": [
    {
     "name": "stdout",
     "output_type": "stream",
     "text": [
      "The matrix product of A and B is \n",
      " [[12 56]\n",
      " [11 43]]\n",
      "The element-wise product of A and B is \n",
      " [[ 2 60]\n",
      " [ 3 25]]\n",
      "The dot product of vectors C and D is \n",
      " 44\n"
     ]
    }
   ],
   "source": [
    "# 2.2 Multiplying Matrices and Vectors\n",
    "from multiplication import matrix_product, elementwise_product, dot_product\n",
    "\n",
    "A = np.array([[1, 10], [3, 5]])\n",
    "B = np.array([[2, 6], [1, 5]])\n",
    "\n",
    "AB_matrix_product = matrix_product(A, B)\n",
    "print(\"The matrix product of A and B is \\n\", AB_matrix_product)\n",
    "\n",
    "AB_elementwise_product = elementwise_product(A, B)\n",
    "print(\"The element-wise product of A and B is \\n\", AB_elementwise_product)\n",
    "\n",
    "C = np.array([1, 3, 5])\n",
    "D = np.array([2, 4, 6])\n",
    "CD_dot_product = dot_product(C, D)\n",
    "print(\"The dot product of vectors C and D is \\n\", CD_dot_product)"
   ]
  },
  {
   "cell_type": "code",
   "execution_count": 5,
   "metadata": {
    "collapsed": false
   },
   "outputs": [
    {
     "name": "stdout",
     "output_type": "stream",
     "text": [
      "Result of A(B + C): \n",
      "\n",
      "[[ 0.75027568  0.80779823  0.91050606]\n",
      " [ 1.31665865  1.15250478  1.72171725]\n",
      " [ 1.65883216  1.4648897   2.16314303]] \n",
      "\n",
      "Result of AB + AC: \n",
      "\n",
      "[[ 0.75027568  0.80779823  0.91050606]\n",
      " [ 1.31665865  1.15250478  1.72171725]\n",
      " [ 1.65883216  1.4648897   2.16314303]] \n",
      "\n"
     ]
    }
   ],
   "source": [
    "# Matrix multiplication is distributive(not strictly in nunmpy due to numerical limitation).\n",
    "A = np.random.rand(3, 2)\n",
    "B = np.random.rand(2, 3)\n",
    "C = np.random.rand(2, 3)\n",
    "\n",
    "D = matrix_product(A, B + C)\n",
    "E = matrix_product(A, B) + matrix_product(A, C)\n",
    "\n",
    "print(\"Result of A(B + C): \\n\")\n",
    "print(D, \"\\n\")\n",
    "print(\"Result of AB + AC: \\n\")\n",
    "print(E, \"\\n\")"
   ]
  },
  {
   "cell_type": "code",
   "execution_count": 6,
   "metadata": {
    "collapsed": false
   },
   "outputs": [
    {
     "name": "stdout",
     "output_type": "stream",
     "text": [
      "Result of A(BC): \n",
      "\n",
      "[[ 0.16209435  0.11675593]\n",
      " [ 0.41646913  0.30001237]] \n",
      "\n",
      "Result of (AB)C: \n",
      "\n",
      "[[ 0.16209435  0.11675593]\n",
      " [ 0.41646913  0.30001237]] \n",
      "\n"
     ]
    }
   ],
   "source": [
    "# Matrix multiplication is associative(not strictly in nunmpy due to numerical limitation).\n",
    "A = np.random.rand(2, 2)\n",
    "B = np.random.rand(2, 2)\n",
    "C = np.random.rand(2, 2)\n",
    "\n",
    "D = matrix_product(A, matrix_product(B, C))\n",
    "E = matrix_product(matrix_product(A, B), C)\n",
    "\n",
    "print(\"Result of A(BC): \\n\")\n",
    "print(D, \"\\n\")\n",
    "print(\"Result of (AB)C: \\n\")\n",
    "print(E, \"\\n\")"
   ]
  },
  {
   "cell_type": "code",
   "execution_count": 7,
   "metadata": {
    "collapsed": false
   },
   "outputs": [
    {
     "name": "stdout",
     "output_type": "stream",
     "text": [
      "Result of AB: \n",
      "\n",
      "[[ 0.3783499   0.455311  ]\n",
      " [ 0.91523298  0.86267447]] \n",
      "\n",
      "Result of BA: \n",
      "\n",
      "[[ 1.05994238  0.53368512]\n",
      " [ 0.52888737  0.18108199]] \n",
      "\n"
     ]
    }
   ],
   "source": [
    "# Matrix multiplication is not commutative.\n",
    "A = np.random.rand(2, 2)\n",
    "B = np.random.rand(2, 2)\n",
    "\n",
    "C = matrix_product(A, B)\n",
    "D = matrix_product(B, A)\n",
    "\n",
    "print(\"Result of AB: \\n\")\n",
    "print(C, \"\\n\")\n",
    "print(\"Result of BA: \\n\")\n",
    "print(D, \"\\n\")"
   ]
  },
  {
   "cell_type": "code",
   "execution_count": 8,
   "metadata": {
    "collapsed": false
   },
   "outputs": [
    {
     "name": "stdout",
     "output_type": "stream",
     "text": [
      "1.13063982395 \n",
      "\n",
      "1.13063982395 \n",
      "\n",
      "True\n"
     ]
    }
   ],
   "source": [
    "# The dot product between two vectors is commutative.\n",
    "A = np.random.rand(5)\n",
    "B = np.random.rand(5)\n",
    "\n",
    "C = dot_product(A, B)\n",
    "D = dot_product(B, A)\n",
    "\n",
    "print(C, \"\\n\")\n",
    "print(D, \"\\n\")\n",
    "print(C == D)"
   ]
  },
  {
   "cell_type": "code",
   "execution_count": 9,
   "metadata": {
    "collapsed": false
   },
   "outputs": [
    {
     "name": "stdout",
     "output_type": "stream",
     "text": [
      "[[ 0.67719719  0.13107736  0.3204432 ]\n",
      " [ 0.4624964   0.19813514  0.24836535]\n",
      " [ 0.60700968  0.19780204  0.30905569]] \n",
      "\n",
      "[[ 0.67719719  0.13107736  0.3204432 ]\n",
      " [ 0.4624964   0.19813514  0.24836535]\n",
      " [ 0.60700968  0.19780204  0.30905569]] \n",
      "\n"
     ]
    }
   ],
   "source": [
    "# Let A be a numpy array of shape(m, n) and B be a numpy array of shape(n, m), then the transpose of the matrix product\n",
    "# of A and B, i.e. AB, is the product of the transpose of B and the transpose of A (not strictly in nunmpy due to \n",
    "# numerical limitation).\n",
    "A = np.random.rand(3, 2)\n",
    "B = np.random.rand(2, 3)\n",
    "\n",
    "C = matrix_product(A, B)\n",
    "\n",
    "D = transpose(matrix_product(A, B))\n",
    "E = matrix_product(transpose(B), transpose(A))\n",
    "\n",
    "print(D, \"\\n\")\n",
    "print(E, \"\\n\")"
   ]
  },
  {
   "cell_type": "code",
   "execution_count": 10,
   "metadata": {
    "collapsed": false
   },
   "outputs": [
    {
     "name": "stdout",
     "output_type": "stream",
     "text": [
      "[ 2.64339149 -0.73356658] \n",
      "\n",
      "[ 0.38038423  0.79515221] \n",
      "\n",
      "[ 0.38038423  0.79515221] \n",
      "\n"
     ]
    }
   ],
   "source": [
    "# Matrix-vector product notation provides a more compact representation for a system of linear equations. This may be\n",
    "# realized in numpy with np.linalg.solve().\n",
    "A = np.random.rand(2, 2)\n",
    "B = np.random.rand(2)\n",
    "\n",
    "x = np.linalg.solve(A, B)\n",
    "print(x, \"\\n\")\n",
    "print(matrix_product(A, x),\"\\n\")\n",
    "print(B, \"\\n\")"
   ]
  },
  {
   "cell_type": "code",
   "execution_count": 11,
   "metadata": {
    "collapsed": false
   },
   "outputs": [
    {
     "name": "stdout",
     "output_type": "stream",
     "text": [
      "[[ 1.  0.  0.]\n",
      " [ 0.  1.  0.]\n",
      " [ 0.  0.  1.]] \n",
      "\n"
     ]
    }
   ],
   "source": [
    "# 2.3 Identity and Inverse matrices\n",
    "\n",
    "from identity import identity\n",
    "\n",
    "A = identity(3)\n",
    "print(A, \"\\n\")"
   ]
  },
  {
   "cell_type": "code",
   "execution_count": 12,
   "metadata": {
    "collapsed": false
   },
   "outputs": [
    {
     "name": "stdout",
     "output_type": "stream",
     "text": [
      "[[  1.00000000e+00   4.85690918e-17]\n",
      " [  2.24180298e-15   1.00000000e+00]] \n",
      "\n",
      "[[  1.00000000e+00   7.29994468e-16]\n",
      " [ -1.19696720e-16   1.00000000e+00]] \n",
      "\n"
     ]
    }
   ],
   "source": [
    "from inverse import inverse\n",
    "\n",
    "A = np.random.rand(2, 2)\n",
    "B = inverse(A)\n",
    "\n",
    "print(matrix_product(A, B), \"\\n\")\n",
    "print(matrix_product(B, A), \"\\n\")"
   ]
  },
  {
   "cell_type": "code",
   "execution_count": 13,
   "metadata": {
    "collapsed": false
   },
   "outputs": [
    {
     "name": "stdout",
     "output_type": "stream",
     "text": [
      "The L1 norm of A is:  10.0 \n",
      "\n",
      "The L2/Euclidean norm of A is:  5.47722557505 \n",
      "\n"
     ]
    }
   ],
   "source": [
    "from norm import Lp_norm, max_norm, frobenius_norm\n",
    "\n",
    "A = np.array([1, -2, 3, -4])\n",
    "\n",
    "print(\"The L1 norm of A is: \", Lp_norm(A, 1), \"\\n\")\n",
    "print(\"The L2/Euclidean norm of A is: \", Lp_norm(A, 2), \"\\n\")"
   ]
  },
  {
   "cell_type": "code",
   "execution_count": 14,
   "metadata": {
    "collapsed": false
   },
   "outputs": [
    {
     "name": "stdout",
     "output_type": "stream",
     "text": [
      "The max norm of A is:  4 \n",
      "\n"
     ]
    }
   ],
   "source": [
    "print(\"The max norm of A is: \", max_norm(A), \"\\n\")"
   ]
  },
  {
   "cell_type": "code",
   "execution_count": 15,
   "metadata": {
    "collapsed": false
   },
   "outputs": [
    {
     "name": "stdout",
     "output_type": "stream",
     "text": [
      "The Frobenius norm of A is:  2.2360679775 \n",
      "\n",
      "The Frobenius norm of B is:  5.47722557505 \n",
      "\n"
     ]
    }
   ],
   "source": [
    "A = np.array([1, 2])\n",
    "B = np.array([[1,2],[3,4]])\n",
    "\n",
    "print(\"The Frobenius norm of A is: \", frobenius_norm(A), \"\\n\")\n",
    "print(\"The Frobenius norm of B is: \", frobenius_norm(B), \"\\n\")"
   ]
  }
 ],
 "metadata": {
  "kernelspec": {
   "display_name": "Python 3",
   "language": "python",
   "name": "python3"
  },
  "language_info": {
   "codemirror_mode": {
    "name": "ipython",
    "version": 3
   },
   "file_extension": ".py",
   "mimetype": "text/x-python",
   "name": "python",
   "nbconvert_exporter": "python",
   "pygments_lexer": "ipython3",
   "version": "3.5.2"
  }
 },
 "nbformat": 4,
 "nbformat_minor": 2
}
