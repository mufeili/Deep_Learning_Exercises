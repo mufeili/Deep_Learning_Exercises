{
 "cells": [
  {
   "cell_type": "code",
   "execution_count": 1,
   "metadata": {
    "collapsed": true
   },
   "outputs": [],
   "source": [
    "# Chapter 2 Linear Algebra"
   ]
  },
  {
   "cell_type": "code",
   "execution_count": 2,
   "metadata": {
    "collapsed": true
   },
   "outputs": [],
   "source": [
    "import numpy as np"
   ]
  },
  {
   "cell_type": "code",
   "execution_count": 3,
   "metadata": {
    "collapsed": false
   },
   "outputs": [
    {
     "name": "stdout",
     "output_type": "stream",
     "text": [
      "Before the transpose operation: \n",
      " [[ 0.43253935  0.75599784]\n",
      " [ 0.89015832  0.88318879]]\n",
      "After the transpose operation: \n",
      " [[ 0.43253935  0.89015832]\n",
      " [ 0.75599784  0.88318879]]\n"
     ]
    }
   ],
   "source": [
    "# 2.1 Scalars, Vectors, Matrices and Tensors\n",
    "from transpose import transpose\n",
    "\n",
    "X = np.random.rand(2, 2)\n",
    "print(\"Before the transpose operation: \\n\", X)\n",
    "X_transposed = X.T\n",
    "print(\"After the transpose operation: \\n\", X_transposed)"
   ]
  },
  {
   "cell_type": "code",
   "execution_count": 4,
   "metadata": {
    "collapsed": false
   },
   "outputs": [
    {
     "name": "stdout",
     "output_type": "stream",
     "text": [
      "The matrix product of A and B is \n",
      " [[12 56]\n",
      " [11 43]]\n",
      "The element-wise product of A and B is \n",
      " [[ 2 60]\n",
      " [ 3 25]]\n",
      "The dot product of vectors C and D is \n",
      " 44\n"
     ]
    }
   ],
   "source": [
    "# 2.2 Multiplying Matrices and Vectors\n",
    "import multiplication as mu\n",
    "\n",
    "A = np.array([[1, 10], [3, 5]])\n",
    "B = np.array([[2, 6], [1, 5]])\n",
    "\n",
    "AB_matrix_product = mu.matrix_product(A, B)\n",
    "print(\"The matrix product of A and B is \\n\", AB_matrix_product)\n",
    "\n",
    "AB_elementwise_product = mu.elementwise_product(A, B)\n",
    "print(\"The element-wise product of A and B is \\n\", AB_elementwise_product)\n",
    "\n",
    "C = np.array([1, 3, 5])\n",
    "D = np.array([2, 4, 6])\n",
    "CD_dot_product = mu.dot_product(C, D)\n",
    "print(\"The dot product of vectors C and D is \\n\", CD_dot_product)"
   ]
  },
  {
   "cell_type": "code",
   "execution_count": null,
   "metadata": {
    "collapsed": true
   },
   "outputs": [],
   "source": []
  }
 ],
 "metadata": {
  "kernelspec": {
   "display_name": "Python 3",
   "language": "python",
   "name": "python3"
  },
  "language_info": {
   "codemirror_mode": {
    "name": "ipython",
    "version": 3
   },
   "file_extension": ".py",
   "mimetype": "text/x-python",
   "name": "python",
   "nbconvert_exporter": "python",
   "pygments_lexer": "ipython3",
   "version": "3.5.2"
  }
 },
 "nbformat": 4,
 "nbformat_minor": 2
}
